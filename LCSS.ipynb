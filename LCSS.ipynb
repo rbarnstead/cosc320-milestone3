{
 "cells": [
  {
   "cell_type": "code",
   "execution_count": 51,
   "id": "4e32376b-15dc-454f-84b9-7495c6c78a69",
   "metadata": {
    "tags": []
   },
   "outputs": [
    {
     "name": "stdout",
     "output_type": "stream",
     "text": [
      "115441\n"
     ]
    }
   ],
   "source": [
    "import csv\n",
    "A = \"\"\n",
    "x = 0\n",
    "with open('mergedfiles.csv', encoding=\"utf8\") as csv_file:\n",
    "    csv_reader = csv.reader(csv_file)\n",
    "    for row in csv_reader:\n",
    "        A = A + str(row)\n",
    "        x = x + 1\n",
    "        if x == 1000:\n",
    "            break\n",
    "\n",
    "print(len(A))\n",
    "B = \"Needs work on the P20 lite version, it's so laggy that it's unplayable\"\n",
    "a = len(A)\n",
    "b = len(B)\n"
   ]
  },
  {
   "cell_type": "code",
   "execution_count": 53,
   "id": "aea122c4-e849-44f6-af12-dd3be4940819",
   "metadata": {},
   "outputs": [
    {
     "name": "stdout",
     "output_type": "stream",
     "text": [
      "Length of LCS is  70\n"
     ]
    }
   ],
   "source": [
    "def lcs(A, B, a, b):\n",
    "    \n",
    "    check = [[0]*( b + 1 ) for j in range(a + 1)]\n",
    "    for i in range(a + 1):\n",
    "        for j in range(b + 1):\n",
    "            if i == 0 or j == 0 :\n",
    "                check[i][j] = 0\n",
    "            elif A[i-1] == B[j-1]:\n",
    "                check[i][j] = check[i-1][j-1]+1\n",
    "            else:\n",
    "                check[i][j] = max(check[i-1][j], check[i][j-1])\n",
    "\n",
    "    return check[a][b]\n",
    "\n",
    "print(\"Length of LCS is \", lcs(A, B, a, b))"
   ]
  },
  {
   "cell_type": "code",
   "execution_count": 25,
   "id": "53bcaffb-029e-4e70-8499-59a2fa78a8db",
   "metadata": {
    "tags": []
   },
   "outputs": [
    {
     "name": "stdout",
     "output_type": "stream",
     "text": [
      "Plagarism has been found from index:  73  to  143\n"
     ]
    }
   ],
   "source": [
    "def search(text, pattern):\n",
    "    t = len(text)\n",
    "    p = len(pattern)\n",
    "\n",
    "    i = 0\n",
    "    j = 0\n",
    "\n",
    "    lps = createlps(pattern)\n",
    "    while i < t:\n",
    "        if pattern[j] == text[i]:\n",
    "            i = i + 1\n",
    "            j = j + 1\n",
    "        if j == p:\n",
    "            print(\"Plagarism has been found from index: \", (i - j), \" to \", ((i - j)+p))\n",
    "            j = lps[j -1]\n",
    "        if i < t and pattern[j] != text[i]:\n",
    "            if j != 0:\n",
    "                j = lps[j-1]\n",
    "            else:\n",
    "                i = i + 1\n",
    "\n",
    "def createlps(pattern):\n",
    "    plength = len(pattern)\n",
    "    length = 0\n",
    "    i = 1\n",
    "    lps = [0]*plength\n",
    "\n",
    "    while i < plength:\n",
    "        if pattern[i] == pattern[length]:\n",
    "            length = length + 1\n",
    "            lps[i] = length\n",
    "            i = i + 1\n",
    "        else:\n",
    "            if length != 0:\n",
    "                length = lps[length -1]\n",
    "            else:\n",
    "                lps[i] = length\n",
    "                i = i + 1\n",
    "    return lps\n",
    "\n",
    "search(A, B)"
   ]
  },
  {
   "cell_type": "code",
   "execution_count": 55,
   "id": "10cfa66f-7949-4884-b0dd-b4e561425823",
   "metadata": {
    "tags": []
   },
   "outputs": [
    {
     "name": "stdout",
     "output_type": "stream",
     "text": [
      "Plagarism has been found from index:  73  to  143\n",
      "Plagarism has been found from index:  73  to  143\n",
      "Plagarism has been found from index:  73  to  143\n",
      "Plagarism has been found from index:  73  to  143\n",
      "Plagarism has been found from index:  73  to  143\n",
      "Plagarism has been found from index:  73  to  143\n",
      "Plagarism has been found from index:  73  to  143\n",
      "Plagarism has been found from index:  73  to  143\n",
      "Plagarism has been found from index:  73  to  143\n"
     ]
    },
    {
     "data": {
      "text/plain": [
       "Text(0.5, 1.0, 'KMP vs LCS')"
      ]
     },
     "execution_count": 55,
     "metadata": {},
     "output_type": "execute_result"
    },
    {
     "data": {
      "image/png": "[encoded data removed]",
      "text/plain": [
       "<Figure size 640x480 with 1 Axes>"
      ]
     },
     "metadata": {},
     "output_type": "display_data"
    }
   ],
   "source": [
    "import matplotlib.pyplot as plt\n",
    "import numpy as np\n",
    "import timeit\n",
    "import math\n",
    "import random\n",
    "\n",
    "start_time = timeit.default_timer()\n",
    "r = range(1, 10)\n",
    "dt = []\n",
    "for i in r:\n",
    "    search(A, B)\n",
    "    dt.append(timeit.default_timer()-start_time)\n",
    "plt.plot(r,dt, color=\"red\", label=\"KMP Algorithm\")\n",
    "\n",
    "start_time = timeit.default_timer()\n",
    "r2 = range(1, 10)\n",
    "dt2 = []\n",
    "for i in r:\n",
    "    lcs(A, B, a, b)\n",
    "    dt2.append(timeit.default_timer()-start_time)\n",
    "plt.plot(r2,dt2, color=\"blue\", label=\"LCS Algorithm\")\n",
    "plt.xlabel(\"n\")\n",
    "plt.ylabel(\"Time(ms)\")\n",
    "plt.legend()\n",
    "plt.title(\"KMP vs LCS\")"
   ]
  },
  {
   "cell_type": "code",
   "execution_count": null,
   "id": "d958876f-1286-403e-96d1-77b7e59ed51b",
   "metadata": {},
   "outputs": [],
   "source": []
  },
  {
   "cell_type": "code",
   "execution_count": null,
   "id": "c246abee-a761-4e9f-8149-422a905c851c",
   "metadata": {},
   "outputs": [],
   "source": []
  },
  {
   "cell_type": "code",
   "execution_count": null,
   "id": "3bc7cd42-5233-4869-8330-cea2a5a76afd",
   "metadata": {},
   "outputs": [],
   "source": []
  },
  {
   "cell_type": "code",
   "execution_count": null,
   "id": "c0bace42-e756-4148-bd1a-5369f2b6b1ba",
   "metadata": {},
   "outputs": [],
   "source": []
  },
  {
   "cell_type": "code",
   "execution_count": null,
   "id": "77afd89e-4ff5-4ba5-b731-5a093b53d23e",
   "metadata": {},
   "outputs": [],
   "source": []
  }
 ],
 "metadata": {
  "kernelspec": {
   "display_name": "Python 3 (ipykernel)",
   "language": "python",
   "name": "python3"
  },
  "language_info": {
   "codemirror_mode": {
    "name": "ipython",
    "version": 3
   },
   "file_extension": ".py",
   "mimetype": "text/x-python",
   "name": "python",
   "nbconvert_exporter": "python",
   "pygments_lexer": "ipython3",
   "version": "3.10.5"
  }
 },
 "nbformat": 4,
 "nbformat_minor": 5
}
